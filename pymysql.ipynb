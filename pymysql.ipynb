{
 "nbformat": 4,
 "nbformat_minor": 2,
 "metadata": {
  "language_info": {
   "name": "python",
   "codemirror_mode": {
    "name": "ipython",
    "version": 3
   },
   "version": "3.8.1-final"
  },
  "orig_nbformat": 2,
  "file_extension": ".py",
  "mimetype": "text/x-python",
  "name": "python",
  "npconvert_exporter": "python",
  "pygments_lexer": "ipython3",
  "version": 3,
  "kernelspec": {
   "name": "python38164bit154309c307bd4c458a210d441e390290",
   "display_name": "Python 3.8.1 64-bit"
  }
 },
 "cells": [
  {
   "cell_type": "code",
   "execution_count": 138,
   "metadata": {},
   "outputs": [],
   "source": [
    "import pymysql"
   ]
  },
  {
   "cell_type": "code",
   "execution_count": 139,
   "metadata": {},
   "outputs": [],
   "source": [
    "conn = pymysql.connect(\n",
    "    host=\"localhost\",\n",
    "    user=\"root\",\n",
    "    password=\"3473\", #密码\n",
    "    database=\"yiibaidb\", #输入存在的数据库名\n",
    "    charset=\"utf8\"\n",
    ")\n",
    "cursor = conn.cursor()"
   ]
  },
  {
   "cell_type": "code",
   "execution_count": 140,
   "metadata": {},
   "outputs": [],
   "source": [
    "sql = \"\"\"\n",
    "    CREATE TABLE IF NOT EXISTS tasks (\n",
    "        `id`INT  AUTO_INCREMENT primary key,\n",
    "        `name` CHAR(10) NOT NULL UNIQUE,\n",
    "        `subject` CHAR(20) NOT NULL,\n",
    "        `goal` TINYINT NOT NULL \n",
    "    )\n",
    "\"\"\"\n",
    "try:\n",
    "    cursor.execute(sql)\n",
    "except Exception as e:\n",
    "    print(e)\n",
    "    conn.rollback()"
   ]
  },
  {
   "cell_type": "code",
   "execution_count": 141,
   "metadata": {},
   "outputs": [],
   "source": [
    "# 增加，instert\n",
    "sql =\"\"\"\n",
    "    insert into tasks(name,subject,goal)\n",
    "    VALUES(%s,%s,%s)\n",
    "\"\"\"\n",
    "data=[\n",
    "    ('king','math',99),\n",
    "    ('Mike','Chinese',80),\n",
    "    ('Jone','English',100)\n",
    "] #数据输入\n",
    "try:\n",
    "    cursor.executemany(sql,data)\n",
    "    conn.commit()\n",
    "except Exception as e:\n",
    "    print(e)\n",
    "    conn.rollback()\n",
    ""
   ]
  },
  {
   "cell_type": "code",
   "execution_count": 142,
   "metadata": {},
   "outputs": [
    {
     "output_type": "stream",
     "name": "stdout",
     "text": "((1, 'king', 'math', 99), (3, 'Jone', 'English', 100))\nname=king,subject=math,goal=99\nname=Jone,subject=English,goal=100\n"
    }
   ],
   "source": [
    "#查询 \n",
    "sql = \"\"\"\n",
    "    SELECT * FROM tasks\\\n",
    "    WHERE goal >%d \n",
    "\"\"\"% (85) #查询分数大于85的学生\n",
    "try:\n",
    "    cursor.execute(sql)\n",
    "    results=cursor.fetchall()\n",
    "    print(results)\n",
    "    for row in results:\n",
    "        name = row[1]\n",
    "        subject=row[2]\n",
    "        goal=row[3]\n",
    "        print(\"name=%s,subject=%s,goal=%d\"%(name,subject,goal))\n",
    "except Exception as e:\n",
    "    print(e)\n",
    "    print(\"not data\")"
   ]
  },
  {
   "cell_type": "code",
   "execution_count": 143,
   "metadata": {},
   "outputs": [],
   "source": [
    "#改\n",
    "sql=\"UPDATE tasks SET goal=100 WHERE name='%s'\"%('Mike')\n",
    "try:\n",
    "    cursor.execute(sql)\n",
    "    conn.commit()\n",
    "except Exception as e:\n",
    "    print(e)\n",
    "    conn.rollback()"
   ]
  },
  {
   "cell_type": "code",
   "execution_count": 144,
   "metadata": {},
   "outputs": [],
   "source": [
    "#添加新列\n",
    "sql=\"\"\"\n",
    "    alter table tasks \n",
    "    add column goal1 INT NOT NULL\n",
    "    after subject \n",
    "\"\"\"\n",
    "try:\n",
    "    cursor.execute(sql)\n",
    "    conn.commit()\n",
    "except Exception as e:\n",
    "    print(e)\n",
    "    conn.rollback()"
   ]
  },
  {
   "cell_type": "code",
   "execution_count": 145,
   "metadata": {},
   "outputs": [],
   "source": [
    "#删除列\n",
    "sql = \"\"\"\n",
    "    alter table tasks\n",
    "    drop column goal1 \n",
    "\"\"\"\n",
    "try:\n",
    "    cursor.execute(sql)\n",
    "    conn.commit()\n",
    "except Exception as e:\n",
    "    print(e)\n",
    "    conn.rollback()"
   ]
  },
  {
   "cell_type": "code",
   "execution_count": 146,
   "metadata": {},
   "outputs": [],
   "source": [
    "#删除  \n",
    "sql = \"DELETE FROM tasks WHERE goal<%s\"%(100) #删除分数小于100\n",
    "try:\n",
    "    cursor.execute(sql)\n",
    "    conn.commit()\n",
    "except Exception as e:\n",
    "    print(e)\n",
    "    conn.rollback()\n",
    ""
   ]
  },
  {
   "cell_type": "code",
   "execution_count": 147,
   "metadata": {},
   "outputs": [],
   "source": [
    "#更改表名\n",
    "sql = \"alter table tasks rename to taskpro\"\n",
    "try:\n",
    "    cursor.execute(sql)\n",
    "    conn.commit()\n",
    "except Exception as e:\n",
    "    print(e)\n",
    "    conn.rollback()"
   ]
  },
  {
   "cell_type": "code",
   "execution_count": 149,
   "metadata": {},
   "outputs": [],
   "source": [
    "#删除表内全部内容\n",
    "sql = \"truncate table taskpro\"\n",
    "try:\n",
    "    cursor.execute(sql)\n",
    "    conn.commit()\n",
    "except Exception as e:\n",
    "    print(e)\n",
    "    conn.rollback()"
   ]
  },
  {
   "cell_type": "code",
   "execution_count": 151,
   "metadata": {},
   "outputs": [],
   "source": [
    "#删除数据表\n",
    "sql =\"DROP TABLE taskpro\"\n",
    "try:\n",
    "    cursor.execute(sql)\n",
    "    conn.commit()\n",
    "except Exception as e:\n",
    "    print(e)\n",
    "    conn.rollback()"
   ]
  }
 ]
}